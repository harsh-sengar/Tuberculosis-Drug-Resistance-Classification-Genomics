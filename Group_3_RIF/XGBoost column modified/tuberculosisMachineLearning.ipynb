{
 "cells": [
  {
   "cell_type": "markdown",
   "metadata": {
    "colab_type": "text",
    "id": "view-in-github"
   },
   "source": [
    "<a href=\"https://colab.research.google.com/github/harsh-sengar/tuberculosis-drug-resistance-classification/blob/master/tuberculosisMachineLearning.ipynb\" target=\"_parent\"><img src=\"https://colab.research.google.com/assets/colab-badge.svg\" alt=\"Open In Colab\"/></a>"
   ]
  },
  {
   "cell_type": "code",
   "execution_count": null,
   "metadata": {},
   "outputs": [],
   "source": []
  },
  {
   "cell_type": "code",
   "execution_count": 1,
   "metadata": {
    "id": "NqrssV1zUIyw"
   },
   "outputs": [],
   "source": [
    "import pandas as pd\n",
    "import numpy as np"
   ]
  },
  {
   "cell_type": "code",
   "execution_count": 2,
   "metadata": {
    "id": "N60knFEZFtl2"
   },
   "outputs": [],
   "source": [
    "dataset = pd.read_csv('X_trainData_column_modified_RIF.csv')\n",
    "dataset = np.array(dataset)\n",
    "X_trainData_1 = (dataset[:,:219])\n",
    "Y_trainData_1 = (dataset[:,219] )"
   ]
  },
  {
   "cell_type": "code",
   "execution_count": 3,
   "metadata": {
    "id": "rRNPUQTlF0pM"
   },
   "outputs": [],
   "source": [
    "x_train1 = np.array(X_trainData_1)\n",
    "y_train1 = np.array(Y_trainData_1)"
   ]
  },
  {
   "cell_type": "code",
   "execution_count": 4,
   "metadata": {
    "id": "CMLPi6bJQcqq"
   },
   "outputs": [],
   "source": [
    "test = pd.read_csv('X_testData_1_modified.csv')\n",
    "x_test = np.array(test)\n"
   ]
  },
  {
   "cell_type": "markdown",
   "metadata": {
    "id": "LefhQdtC9F2-"
   },
   "source": [
    "# Xgboost classifier"
   ]
  },
  {
   "cell_type": "code",
   "execution_count": 5,
   "metadata": {
    "id": "HDu5m9wJ1VDE"
   },
   "outputs": [
    {
     "name": "stdout",
     "output_type": "stream",
     "text": [
      "[15:57:49] WARNING: ../src/learner.cc:516: \n",
      "Parameters: { nrounds } might not be used.\n",
      "\n",
      "  This may not be accurate due to some parameters are only used in language bindings but\n",
      "  passed down to XGBoost core.  Or some parameters are not used but slip through this\n",
      "  verification. Please open an issue if you find above cases.\n",
      "\n",
      "\n"
     ]
    }
   ],
   "source": [
    "from xgboost import XGBClassifier\n",
    "from sklearn.preprocessing import MultiLabelBinarizer\n",
    "from sklearn.multioutput import MultiOutputClassifier\n",
    "from sklearn.metrics import accuracy_score\n",
    "\n",
    "clf = XGBClassifier(max_depth=5, eta = 0.2, gamma = 2, nrounds = 100)\n",
    "\n",
    "clf.fit(x_train1, y_train1)\n",
    "y_pred = clf.predict_proba(x_test)"
   ]
  },
  {
   "cell_type": "code",
   "execution_count": 6,
   "metadata": {
    "id": "CzGfAPr61TG0"
   },
   "outputs": [],
   "source": [
    "y_pred = y_pred[:,1]"
   ]
  },
  {
   "cell_type": "code",
   "execution_count": 7,
   "metadata": {
    "id": "N8vQLh9SgN5v"
   },
   "outputs": [],
   "source": [
    "submission_data = pd.read_csv('Y_testData_1_nolabels_RIF.csv')"
   ]
  },
  {
   "cell_type": "code",
   "execution_count": 8,
   "metadata": {
    "colab": {
     "base_uri": "https://localhost:8080/"
    },
    "id": "MGRm4_2zefip",
    "outputId": "5fc07d61-0de7-453f-a930-035f03027b03"
   },
   "outputs": [],
   "source": [
    "ids=submission_data.iloc[:,:1].values\n",
    "result=list()\n",
    "\n",
    "for i in ids:\n",
    "    result.append([ i[0], y_pred[i[0]-1] ])\n",
    "\n",
    "result.insert(0, ['ID','RIF'])"
   ]
  },
  {
   "cell_type": "code",
   "execution_count": 9,
   "metadata": {
    "id": "rEOtJ1WZvyVB"
   },
   "outputs": [],
   "source": [
    "import csv\n",
    "file = open('RIF_result.csv', 'w+', newline ='') \n",
    "  \n",
    "# writing the data into the file \n",
    "with file:     \n",
    "    write = csv.writer(file) \n",
    "    write.writerows(result) \n"
   ]
  },
  {
   "cell_type": "code",
   "execution_count": null,
   "metadata": {
    "colab": {
     "base_uri": "https://localhost:8080/",
     "height": 17
    },
    "id": "87f6_yGsvyX-",
    "outputId": "c0c3c3e3-4e95-4fe9-a305-7bf8ab2f2370"
   },
   "outputs": [],
   "source": []
  },
  {
   "cell_type": "code",
   "execution_count": null,
   "metadata": {
    "id": "NkM6uDE5v_cg"
   },
   "outputs": [],
   "source": []
  },
  {
   "cell_type": "markdown",
   "metadata": {
    "id": "sFbFJgta9Z22"
   },
   "source": []
  },
  {
   "cell_type": "code",
   "execution_count": null,
   "metadata": {
    "colab": {
     "base_uri": "https://localhost:8080/"
    },
    "id": "r8S6ECMX9fw2",
    "outputId": "425297ef-515e-4c5f-e27e-05f0064f0e58"
   },
   "outputs": [],
   "source": []
  },
  {
   "cell_type": "code",
   "execution_count": null,
   "metadata": {
    "id": "bXnTvYk-9ihv"
   },
   "outputs": [],
   "source": []
  },
  {
   "cell_type": "code",
   "execution_count": null,
   "metadata": {
    "id": "44N6W6BJ9isl"
   },
   "outputs": [],
   "source": []
  },
  {
   "cell_type": "code",
   "execution_count": null,
   "metadata": {
    "id": "-vYwgZLS9izL"
   },
   "outputs": [],
   "source": []
  }
 ],
 "metadata": {
  "colab": {
   "authorship_tag": "ABX9TyNbLiuVxw9nlUJPHu09KKWS",
   "collapsed_sections": [],
   "include_colab_link": true,
   "name": "tuberculosisMachineLearning.ipynb",
   "provenance": []
  },
  "kernelspec": {
   "display_name": "Python 3",
   "language": "python",
   "name": "python3"
  },
  "language_info": {
   "codemirror_mode": {
    "name": "ipython",
    "version": 3
   },
   "file_extension": ".py",
   "mimetype": "text/x-python",
   "name": "python",
   "nbconvert_exporter": "python",
   "pygments_lexer": "ipython3",
   "version": "3.8.5"
  }
 },
 "nbformat": 4,
 "nbformat_minor": 4
}
