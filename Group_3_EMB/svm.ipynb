{
 "cells": [
  {
   "cell_type": "code",
   "execution_count": 1,
   "metadata": {},
   "outputs": [],
   "source": [
    "from sklearn.model_selection import train_test_split\n",
    "from sklearn import svm\n",
    "from sklearn import metrics\n",
    "import pandas"
   ]
  },
  {
   "cell_type": "code",
   "execution_count": 2,
   "metadata": {},
   "outputs": [],
   "source": [
    "X = pandas.read_csv('SMOTE_updated_X_trainData_column_modified_EMB.csv', delimiter=',')\n",
    "\n",
    "Y = pandas.read_csv('final_X_testData_column_modified_EMB.csv', delimiter=',')"
   ]
  },
  {
   "cell_type": "code",
   "execution_count": 3,
   "metadata": {},
   "outputs": [
    {
     "data": {
      "text/plain": [
       "array([[0.93926122, 0.06073878],\n",
       "       [0.93005429, 0.06994571],\n",
       "       [0.7428607 , 0.2571393 ],\n",
       "       ...,\n",
       "       [0.00295525, 0.99704475],\n",
       "       [0.00584143, 0.99415857],\n",
       "       [0.008028  , 0.991972  ]])"
      ]
     },
     "execution_count": 3,
     "metadata": {},
     "output_type": "execute_result"
    }
   ],
   "source": [
    "clf = svm.SVC(kernel='rbf', probability=True)\n",
    "\n",
    "clf.fit(X[X.columns[0:219]], X[X.columns[219]])\n",
    "y_pred = clf.predict_proba(Y[Y.columns[0:219]])\n",
    "y_pred"
   ]
  },
  {
   "cell_type": "code",
   "execution_count": 4,
   "metadata": {},
   "outputs": [],
   "source": [
    "submission_data = pandas.read_csv('Y_testData_1_nolabels_EMB.csv')\n",
    "ids=submission_data.iloc[:,:1].values\n",
    "result=list()\n",
    "\n",
    "for i in range(len(ids)):\n",
    "    result.append([ ids[i,0], y_pred[i,1]])\n",
    "\n",
    "result.insert(0, ['ID','EMB'])"
   ]
  },
  {
   "cell_type": "code",
   "execution_count": 5,
   "metadata": {},
   "outputs": [],
   "source": [
    "output = pandas.DataFrame(result)\n",
    "output.to_csv('EMB_results.csv',header=False, index = False)\n"
   ]
  }
 ],
 "metadata": {
  "kernelspec": {
   "display_name": "Python 3",
   "language": "python",
   "name": "python3"
  },
  "language_info": {
   "codemirror_mode": {
    "name": "ipython",
    "version": 3
   },
   "file_extension": ".py",
   "mimetype": "text/x-python",
   "name": "python",
   "nbconvert_exporter": "python",
   "pygments_lexer": "ipython3",
   "version": "3.8.5"
  }
 },
 "nbformat": 4,
 "nbformat_minor": 4
}
